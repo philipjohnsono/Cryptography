{
 "cells": [
  {
   "cell_type": "markdown",
   "id": "7bb8cb5b",
   "metadata": {},
   "source": [
    "### Encryption Algorithm "
   ]
  },
  {
   "cell_type": "code",
   "execution_count": 1,
   "id": "e03bee8f",
   "metadata": {},
   "outputs": [],
   "source": [
    "# dataset\n",
    "text = \"\"\"Dear Hiring Manager,\n",
    "\n",
    "I am excited to submit my application for the Graduate Analyst position within AlphaSights’ Strategy & Analytics team. With a solid background in data science and quantitative analysis, coupled with my passion for problem-solving and delivering actionable insights, I am eager to contribute to the dynamic and innovative environment at AlphaSights.\n",
    "\n",
    "AlphaSights’ mission to connect decision-makers to globally distributed knowledge resonates deeply with me. I am particularly drawn to your commitment to driving growth through data-driven performance measurement and analytically grounded decision-making. My academic background, including a Master’s in Data Science from the University of Essex and a Bachelor’s in Mathematics, has equipped me with robust analytical and quantitative skills that align perfectly with this mission.\n",
    "\n",
    "During my tenure as a Data Scientist at PJST Global Services, I successfully extracted data from proprietary systems and performed comprehensive quantitative analyses. These efforts resulted in a 15% increase in quarterly revenue projections and optimized resource allocation. Leading a team to enhance SQL databases, I improved query speed by 38% and reduced weekly maintenance time by 10 hours. Additionally, I spearheaded a strategic initiative to optimize customer segmentation, reducing operational costs by 10% within eight months through streamlined targeted marketing efforts.\n",
    "\n",
    "My role as a Technology Intern at Bright Network further honed my skills in presenting insights to senior leaders, utilizing data storytelling techniques to drive executive buy-in and inform strategic decisions. This experience, coupled with my ability to solve complex and unstructured business problems, demonstrates my proactive and meticulous approach to work—attributes that are essential in the fast-paced environment at AlphaSights.\n",
    "\n",
    "In my academic projects, I have often collaborated with interdisciplinary teams to tackle real-world challenges. One such project involved working with a local startup to develop a predictive model that increased their customer retention by 20%. This project taught me the importance of clear communication and the ability to translate technical findings into actionable business strategies, skills that I am eager to bring to the Strategy & Analytics team at AlphaSights.\n",
    "\n",
    "AlphaSights’ culture of innovation, collaboration, and high standards is truly inspiring. I am highly driven, detail-oriented, and possess strong interpersonal and presentation skills. My commitment to maintaining high standards and delivering meticulous work aligns perfectly with AlphaSights’ values.\n",
    "\n",
    "Furthermore, I am intrigued by the opportunity to work within a team that thrives on intellectual curiosity and continuous learning. The fast-paced and high-stakes environment at AlphaSights is an ideal match for my ambition and desire to push the boundaries of what is possible through data analytics. I am particularly impressed by AlphaSights’ dedication to leveraging advanced analytics to provide clients with the most relevant and timely insights, a mission I am excited to support and enhance with my expertise.\n",
    "\n",
    "I am enthusiastic about the opportunity to bring my expertise in data extraction, quantitative analysis, and problem-solving to AlphaSights. I am confident that my background, skills, and passion for data-driven decision-making will contribute to the continued growth and success of AlphaSights. I am eager to bring my knowledge and experience to your team, where I hope to make a meaningful impact by driving analytical excellence and supporting strategic initiatives. Thank you for considering my application. I look forward to discussing how I can contribute to your team.\n",
    "\n",
    "Sincerely,\n",
    "Johnson Philip\n",
    "\"\"\""
   ]
  },
  {
   "cell_type": "markdown",
   "id": "6e29c6db",
   "metadata": {},
   "source": [
    "### Individual Algorithm "
   ]
  },
  {
   "cell_type": "code",
   "execution_count": 28,
   "id": "2067a7b6",
   "metadata": {},
   "outputs": [
    {
     "name": "stdout",
     "output_type": "stream",
     "text": [
      "MOAN BQPRWHPFC\n"
     ]
    }
   ],
   "source": [
    "# Vigenère Cipher\n",
    "def encrypt_vigenere(plaintext, key):\n",
    "        # Convert the key to upper case\n",
    "        key = key.upper()\n",
    "        # Initialise an empty list to store the ciphertext and 'index_key' to 0\n",
    "        ciphertext = []\n",
    "        index_key = 0\n",
    "\n",
    "        # Check through each character in the plaintext\n",
    "        for character in plaintext.upper():\n",
    "            # If the character is a letter\n",
    "            if character.isalpha():\n",
    "                # Calculate the shift value based on the key\n",
    "                shift_vig = ord(key[index_key]) - ord('A')\n",
    "                # Encrypt the character by shifting it and appending it\n",
    "                encrypted_char = chr((ord(character) - ord('A') + shift_vig) % 26 + ord('A'))\n",
    "                ciphertext.append(encrypted_char)\n",
    "                # Update \"index_key\" to move to the next character in the key\n",
    "                index_key = (index_key + 1) % len(key)\n",
    "            else:\n",
    "                # If it's not a letter, append the character as it is\n",
    "                ciphertext.append(character)\n",
    "\n",
    "        # Join the list into a string and return the ciphertext\n",
    "        return ''.join(ciphertext)\n",
    "\n",
    "# Example\n",
    "print(encrypt_vigenere(\"DATA SCIENTIST\", \"JOHN\"))"
   ]
  },
  {
   "cell_type": "code",
   "execution_count": 24,
   "id": "44040f64",
   "metadata": {},
   "outputs": [
    {
     "data": {
      "text/plain": [
       "'TCTXDXESAIIXASNT'"
      ]
     },
     "execution_count": 24,
     "metadata": {},
     "output_type": "execute_result"
    }
   ],
   "source": [
    "# Columnar Transposition Cipher\n",
    "def encrypt_columnar_transposition(plaintext, key):\n",
    "    # Remove empty spaces and replace them with 'X'\n",
    "    plaintext_replaced = plaintext.replace(' ', 'X')\n",
    "    \n",
    "    # Create a list of indices based on the sorted key in an ascending order\n",
    "    key_order = sorted(range(len(key)), key=lambda k: key[k])\n",
    "\n",
    "    # Calculate the number of columns and rows for the grid\n",
    "    columns_number = len(key)\n",
    "    rows_number = (len(plaintext_replaced) + columns_number - 1) // columns_number  \n",
    "\n",
    "    # Pad the plaintext to fill the grid completely with 'X'\n",
    "    plaintext_pad = plaintext_replaced.ljust(rows_number * columns_number, 'X')\n",
    "\n",
    "    # Create the grid from the padded plaintext\n",
    "    columnar_grid = [plaintext_pad[i:i + columns_number] for i in range(0, len(plaintext_pad), columns_number)]\n",
    "\n",
    "    # Generate the ciphertext by reading columns in the order defined by key_order\n",
    "    ciphertext = ''.join(''.join(row[i] for row in columnar_grid) for i in key_order)\n",
    "\n",
    "    return ciphertext\n",
    "\n",
    "#Example\n",
    "encrypt_columnar_transposition(\"DATA SCIENTIST\", \"JOHN\")"
   ]
  },
  {
   "cell_type": "code",
   "execution_count": 21,
   "id": "ae91995d",
   "metadata": {},
   "outputs": [
    {
     "data": {
      "text/plain": [
       "'PODO UGIYBDIUD'"
      ]
     },
     "execution_count": 21,
     "metadata": {},
     "output_type": "execute_result"
    }
   ],
   "source": [
    "# Affine Cipher\n",
    "def encrypt_affine(plaintext, a, b):\n",
    "        # Ensure 'a' and 26 are coprime\n",
    "        def gcd(a, b):\n",
    "            while b != 0:\n",
    "                a, b = b, a % b\n",
    "            return a\n",
    "\n",
    "        if gcd(a, 26) != 1:\n",
    "            raise ValueError(\"Make sure a and 26 are coprime.\")\n",
    "\n",
    "        ciphertext = ''\n",
    "        for character in plaintext:\n",
    "            # Encrypt only alphabetic characters\n",
    "            if character.isalpha():  \n",
    "                if character.isupper():\n",
    "                    x = ord(character) - ord('A')\n",
    "                    encrypted_character = chr(((a * x + b) % 26) + ord('A'))\n",
    "                else:\n",
    "                    x = ord(character) - ord('a')\n",
    "                    encrypted_character = chr(((a * x + b) % 26) + ord('a'))\n",
    "                ciphertext += encrypted_character\n",
    "            else:\n",
    "                # Non-alphabetic characters remain unchanged\n",
    "                ciphertext += character  \n",
    "\n",
    "        return ciphertext\n",
    "\n",
    "#Example\n",
    "encrypt_affine(\"DATA SCIENTIST\", 9, 14)"
   ]
  },
  {
   "cell_type": "code",
   "execution_count": 22,
   "id": "4445a59a",
   "metadata": {},
   "outputs": [
    {
     "data": {
      "text/plain": [
       "'DCSASIITT ETAN'"
      ]
     },
     "execution_count": 22,
     "metadata": {},
     "output_type": "execute_result"
    }
   ],
   "source": [
    "# Rail Fence Cipher\n",
    "def encrypt_rail_fence(plaintext, number_rails):\n",
    "        # For each rail, initialise a list rails with empty strings \n",
    "        rails = [''] * number_rails\n",
    "        # Initialise direction to 1 and rail to 0 to track the present rail and direction of movement\n",
    "        direction = 1\n",
    "        rail = 0\n",
    "\n",
    "        # Check through each character in the plaintext\n",
    "        for character in plaintext:\n",
    "            # Append the character to the current rail\n",
    "            rails[rail] += character\n",
    "            # Update the rail index based on the direction\n",
    "            rail += direction\n",
    "\n",
    "            # Change direction when reaching the top or bottom rail\n",
    "            if rail == 0 or rail == number_rails - 1:\n",
    "                direction *= -1\n",
    "\n",
    "        # Join the rails into a single string and return the ciphertext\n",
    "        return ''.join(rails)\n",
    "\n",
    "# Example\n",
    "encrypt_rail_fence(\"DATA SCIENTIST\", 4)"
   ]
  },
  {
   "cell_type": "code",
   "execution_count": 29,
   "id": "e8d19d63",
   "metadata": {},
   "outputs": [
    {
     "data": {
      "text/plain": [
       "'FHYFQELCASLQSY'"
      ]
     },
     "execution_count": 29,
     "metadata": {},
     "output_type": "execute_result"
    }
   ],
   "source": [
    "# PlayFair Cipher\n",
    "def encrypt_playfair(plaintext, key):\n",
    "    def matrix_for_playfair(key):\n",
    "        # Initialise an empty list for the matrix and a set to keep track of used characters\n",
    "        matrix = []\n",
    "        used_chars = set()\n",
    "\n",
    "        # Loop through each character in the key, and convert to uppercase\n",
    "        for character in key.upper():\n",
    "            # Add only the character if it hasn't been used and isn't 'J'\n",
    "            if character not in used_chars and character != 'J':\n",
    "                matrix.append(character)\n",
    "                used_chars.add(character)\n",
    "\n",
    "        # State the alphabet, excluding 'J' since it is usually combined with 'I'\n",
    "        alphabet = 'ABCDEFGHIKLMNOPQRSTUVWXYZ'\n",
    "        # Add remaining characters from the alphabet to the matrix if they haven't been used\n",
    "        for character in alphabet:\n",
    "            if character not in used_chars:\n",
    "                matrix.append(character)\n",
    "                used_chars.add(character)\n",
    "\n",
    "        return matrix\n",
    "\n",
    "    def find_position(matrix, character):\n",
    "        # Replace 'J' with 'I' as per the Playfair cipher rules\n",
    "        if character == 'J':\n",
    "            character = 'I'\n",
    "        # Find the index of the character in the matrix and return its row and column\n",
    "        index = matrix.index(character)\n",
    "        return index // 5, index % 5\n",
    "\n",
    "    def preprocess_plaintext(plaintext):\n",
    "        # Remove non-alphabetic characters and convert all to uppercase\n",
    "        plaintext = ''.join(filter(str.isalpha, plaintext)).upper()  \n",
    "        processed_text = []\n",
    "        i = 0\n",
    "        while i < len(plaintext):\n",
    "            a = plaintext[i]\n",
    "            if i + 1 < len(plaintext):\n",
    "                b = plaintext[i + 1]\n",
    "            else:\n",
    "                # If the text length is odd, pad with 'X'\n",
    "                b = 'X'  \n",
    "            \n",
    "            if a == b:\n",
    "                # If a pair is identical, insert an 'X' between them\n",
    "                processed_text.append(a)\n",
    "                processed_text.append('X')\n",
    "                i += 1\n",
    "            else:\n",
    "                # Otherwise, just add the pair to the processed text\n",
    "                processed_text.append(a)\n",
    "                processed_text.append(b)\n",
    "                i += 2\n",
    "\n",
    "        # If the processed text ends up with an odd length, pad the final character with 'X'\n",
    "        if len(processed_text) % 2 != 0:\n",
    "            processed_text.append('X')\n",
    "        \n",
    "        return processed_text\n",
    "\n",
    "    # Generate the Playfair matrix using the key\n",
    "    matrix = matrix_for_playfair(key)\n",
    "    # Preprocess the plaintext to prepare it for encryption\n",
    "    processed_text = preprocess_plaintext(plaintext)\n",
    "    ciphertext = []\n",
    "\n",
    "    i = 0\n",
    "    while i < len(processed_text):\n",
    "        a = processed_text[i]\n",
    "        b = processed_text[i + 1]\n",
    "\n",
    "        # Find the positions of both characters in the matrix\n",
    "        row_a, col_a = find_position(matrix, a)\n",
    "        row_b, col_b = find_position(matrix, b)\n",
    "\n",
    "        if row_a == row_b:\n",
    "            # If the characters are in the same row, shift right \n",
    "            ciphertext.append(matrix[row_a * 5 + (col_a + 1) % 5])\n",
    "            ciphertext.append(matrix[row_b * 5 + (col_b + 1) % 5])\n",
    "        elif col_a == col_b:\n",
    "            # If the characters are in the same column, shift down \n",
    "            ciphertext.append(matrix[((row_a + 1) % 5) * 5 + col_a])\n",
    "            ciphertext.append(matrix[((row_b + 1) % 5) * 5 + col_b])\n",
    "        else:\n",
    "            # If neither row nor column matches, swap columns\n",
    "            ciphertext.append(matrix[row_a * 5 + col_b])\n",
    "            ciphertext.append(matrix[row_b * 5 + col_a])\n",
    "\n",
    "        i += 2\n",
    "\n",
    "    # Return the encrypted text as a single string\n",
    "    return ''.join(ciphertext)\n",
    "\n",
    "# Example \n",
    "encrypt_playfair(\"DATA SCIENTIST\", \"JOHN\")"
   ]
  },
  {
   "cell_type": "markdown",
   "id": "5b0e5528",
   "metadata": {},
   "source": [
    "### Combined Cipher"
   ]
  },
  {
   "cell_type": "code",
   "execution_count": 30,
   "id": "9dfad498",
   "metadata": {},
   "outputs": [
    {
     "name": "stdout",
     "output_type": "stream",
     "text": [
      "The ciphertext is\n",
      "\n",
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n"
     ]
    }
   ],
   "source": [
    "def combined_cipher(plaintext, key_vigenere, key_transposition, affine_a, affine_b, rail_fence_rails, key_playfair):\n",
    "    # Step 1: Vigenère Cipher\n",
    "    def encrypt_vigenere(plaintext, key):\n",
    "        # Convert the key to upper case\n",
    "        key = key.upper()\n",
    "        # Initialise an empty list to store the ciphertext and 'index_key' to 0\n",
    "        ciphertext = []\n",
    "        index_key = 0\n",
    "\n",
    "        # Check through each character in the plaintext\n",
    "        for character in plaintext.upper():\n",
    "            # If the character is a letter\n",
    "            if character.isalpha():\n",
    "                # Calculate the shift value based on the key\n",
    "                shift_vig = ord(key[index_key]) - ord('A')\n",
    "                # Encrypt the character by shifting it and appending it\n",
    "                encrypted_char = chr((ord(character) - ord('A') + shift_vig) % 26 + ord('A'))\n",
    "                ciphertext.append(encrypted_char)\n",
    "                # Update \"index_key\" to move to the next character in the key\n",
    "                index_key = (index_key + 1) % len(key)\n",
    "            else:\n",
    "                # If it's not a letter, append the character as it is\n",
    "                ciphertext.append(character)\n",
    "\n",
    "        # Join the list into a string and return the ciphertext\n",
    "        return ''.join(ciphertext)\n",
    "\n",
    "    # Step 2: Columnar Transposition Cipher\n",
    "    def encrypt_columnar_transposition(plaintext, key):\n",
    "        # Remove empty spaces and replace them with 'X'\n",
    "        plaintext_replaced = plaintext.replace(' ', 'X')\n",
    "        \n",
    "        # Create a list of indices based on the sorted key in ascending order\n",
    "        key_order = sorted(range(len(key)), key=lambda k: key[k])\n",
    "\n",
    "        # Calculate the number of columns and rows for the grid\n",
    "        columns_number = len(key)\n",
    "        rows_number = (len(plaintext_replaced) + columns_number - 1) // columns_number  \n",
    "\n",
    "        # Pad the plaintext to fill the grid completely with 'X'\n",
    "        plaintext_pad = plaintext_replaced.ljust(rows_number * columns_number, 'X')\n",
    "\n",
    "        # Create the grid from the padded plaintext\n",
    "        columnar_grid = [plaintext_pad[i:i + columns_number] for i in range(0, len(plaintext_pad), columns_number)]\n",
    "\n",
    "        # Generate the ciphertext by reading columns in the order defined by key_order\n",
    "        ciphertext = ''.join(''.join(row[i] for row in columnar_grid) for i in key_order)\n",
    "\n",
    "        return ciphertext\n",
    "\n",
    "    # Step 3: Affine Cipher\n",
    "    def encrypt_affine(plaintext, a, b):\n",
    "        # Ensure 'a' and 26 are coprime\n",
    "        def gcd(a, b):\n",
    "            while b != 0:\n",
    "                a, b = b, a % b\n",
    "            return a\n",
    "\n",
    "        if gcd(a, 26) != 1:\n",
    "            raise ValueError(\"Make sure a and 26 are coprime.\")\n",
    "\n",
    "        ciphertext = ''\n",
    "        for character in plaintext:\n",
    "            # Encrypt only alphabetic characters\n",
    "            if character.isalpha():  \n",
    "                if character.isupper():\n",
    "                    x = ord(character) - ord('A')\n",
    "                    encrypted_character = chr(((a * x + b) % 26) + ord('A'))\n",
    "                else:\n",
    "                    x = ord(character) - ord('a')\n",
    "                    encrypted_character = chr(((a * x + b) % 26) + ord('a'))\n",
    "                ciphertext += encrypted_character\n",
    "            else:\n",
    "                # Non-alphabetic characters remain unchanged\n",
    "                ciphertext += character  \n",
    "\n",
    "        return ciphertext\n",
    "\n",
    "    # Step 4: Rail Fence Cipher\n",
    "    def encrypt_rail_fence(plaintext, number_rails):\n",
    "        # For each rail, initialise a list 'rails' with empty strings \n",
    "        rails = [''] * number_rails\n",
    "        # Initialise direction to 1 and rail to 0 to track the current rail and direction of movement\n",
    "        direction = 1\n",
    "        rail = 0\n",
    "\n",
    "        # Check through each character in the plaintext\n",
    "        for character in plaintext:\n",
    "            # Append the character to the current rail\n",
    "            rails[rail] += character\n",
    "            # Update the rail index based on the direction\n",
    "            rail += direction\n",
    "\n",
    "            # Change direction when reaching the top or bottom rail\n",
    "            if rail == 0 or rail == number_rails - 1:\n",
    "                direction *= -1\n",
    "\n",
    "        # Join the rails into a single string and return the ciphertext\n",
    "        return ''.join(rails)\n",
    "\n",
    "    # Step 5: Playfair Cipher\n",
    "    def encrypt_playfair(plaintext, key):\n",
    "        def matrix_for_playfair(key):\n",
    "            matrix = []\n",
    "            used_chars = set()\n",
    "\n",
    "            for character in key.upper():\n",
    "                if character not in used_chars and character != 'J':\n",
    "                    matrix.append(character)\n",
    "                    used_chars.add(character)\n",
    "\n",
    "            alphabet = 'ABCDEFGHIKLMNOPQRSTUVWXYZ'\n",
    "            for character in alphabet:\n",
    "                if character not in used_chars:\n",
    "                    matrix.append(character)\n",
    "                    used_chars.add(character)\n",
    "\n",
    "            return matrix\n",
    "\n",
    "        def find_position(matrix, character):\n",
    "            if character == 'J':\n",
    "                character = 'I'\n",
    "            index = matrix.index(character)\n",
    "            return index // 5, index % 5\n",
    "\n",
    "        def preprocess_plaintext(plaintext):\n",
    "            plaintext = ''.join(filter(str.isalpha, plaintext)).upper()  # Remove non-alphabetic characters and convert to uppercase\n",
    "            processed_text = []\n",
    "            i = 0\n",
    "            while i < len(plaintext):\n",
    "                a = plaintext[i]\n",
    "                if i + 1 < len(plaintext):\n",
    "                    b = plaintext[i + 1]\n",
    "                else:\n",
    "                    b = 'X'\n",
    "                \n",
    "                if a == b:\n",
    "                    processed_text.append(a)\n",
    "                    processed_text.append('X')\n",
    "                    i += 1\n",
    "                else:\n",
    "                    processed_text.append(a)\n",
    "                    processed_text.append(b)\n",
    "                    i += 2\n",
    "\n",
    "            if len(processed_text) % 2 != 0:\n",
    "                processed_text.append('X')\n",
    "            \n",
    "            return processed_text\n",
    "\n",
    "        matrix = matrix_for_playfair(key)\n",
    "        processed_text = preprocess_plaintext(plaintext)\n",
    "        ciphertext = []\n",
    "\n",
    "        i = 0\n",
    "        while i < len(processed_text):\n",
    "            a = processed_text[i]\n",
    "            b = processed_text[i + 1]\n",
    "\n",
    "            row_a, col_a = find_position(matrix, a)\n",
    "            row_b, col_b = find_position(matrix, b)\n",
    "\n",
    "            if row_a == row_b:\n",
    "                ciphertext.append(matrix[row_a * 5 + (col_a + 1) % 5])\n",
    "                ciphertext.append(matrix[row_b * 5 + (col_b + 1) % 5])\n",
    "            elif col_a == col_b:\n",
    "                ciphertext.append(matrix[((row_a + 1) % 5) * 5 + col_a])\n",
    "                ciphertext.append(matrix[((row_b + 1) % 5) * 5 + col_b])\n",
    "            else:\n",
    "                ciphertext.append(matrix[row_a * 5 + col_b])\n",
    "                ciphertext.append(matrix[row_b * 5 + col_a])\n",
    "\n",
    "            i += 2\n",
    "\n",
    "        return ''.join(ciphertext)\n",
    "\n",
    "    # Process the plaintext through each stage\n",
    "    first_stage = encrypt_vigenere(plaintext, key_vigenere)\n",
    "    second_stage = encrypt_columnar_transposition(first_stage, key_transposition)\n",
    "    third_stage = encrypt_affine(second_stage, affine_a, affine_b)\n",
    "    fourth_stage = encrypt_rail_fence(third_stage, rail_fence_rails)\n",
    "    final_stage = encrypt_playfair(fourth_stage, key_playfair)\n",
    "\n",
    "    # Return the final ciphertext\n",
    "    return final_stage\n",
    "\n",
    "# Example usage:\n",
    "plaintext = text\n",
    "final_ciphertext = combined_cipher(plaintext, \"OLUWASEUN\", \"PHILIP\", 17, 20, 5, \"TECHnology\")\n",
    "print(\"The ciphertext is\")\n",
    "print()\n",
    "print(final_ciphertext)"
   ]
  },
  {
   "cell_type": "markdown",
   "id": "9d253c35",
   "metadata": {},
   "source": [
    "### Statistical Analysis"
   ]
  },
  {
   "cell_type": "code",
   "execution_count": 32,
   "id": "59301baf",
   "metadata": {},
   "outputs": [],
   "source": [
    "from collections import Counter\n",
    "import matplotlib.pyplot as plt\n",
    "import scipy.stats as stats\n",
    "import pandas as pd\n",
    "import math"
   ]
  },
  {
   "cell_type": "code",
   "execution_count": 33,
   "id": "c18f2696",
   "metadata": {},
   "outputs": [
    {
     "name": "stdout",
     "output_type": "stream",
     "text": [
      "Observed Frequencies of the ciphertext:\n",
      "\n",
      "{'Q': 2.4146981627296586, 'S': 2.5721784776902887, 'X': 6.351706036745407, 'W': 8.68766404199475, 'E': 5.669291338582677, 'V': 4.094488188976378, 'L': 5.695538057742782, 'P': 5.013123359580052, 'C': 2.4146981627296586, 'M': 2.8608923884514437, 'R': 3.674540682414698, 'D': 5.065616797900263, 'N': 3.149606299212598, 'Y': 2.9658792650918633, 'A': 2.8871391076115485, 'G': 2.5459317585301835, 'K': 3.0971128608923886, 'Z': 7.664041994750656, 'H': 3.543307086614173, 'T': 3.0708661417322833, 'B': 3.0183727034120733, 'I': 2.7821522309711284, 'U': 6.010498687664042, 'F': 2.6509186351706036, 'O': 2.099737532808399}\n",
      "\n",
      "Total Letters Observed in ciphertext:\n",
      "\n",
      "3810\n"
     ]
    }
   ],
   "source": [
    "def frequency_analysis(text):\n",
    "    # Remove non-alphabetic characters and convert to uppercase\n",
    "    text = ''.join(filter(str.isalpha, text)).upper()\n",
    "    \n",
    "    # Count frequency of each letter\n",
    "    frequency = Counter(text)\n",
    "    total_letters = sum(frequency.values())\n",
    "    \n",
    "    # Calculate the frequency percentage of each letter\n",
    "    frequency_percentage = {char: (count / total_letters) * 100 for char, count in frequency.items()}\n",
    "    \n",
    "    return frequency_percentage, total_letters\n",
    "\n",
    "\n",
    "# Perform frequency analysis on the ciphertext\n",
    "observed_frequency, total_observed = frequency_analysis(final_ciphertext)\n",
    "print(\"Observed Frequencies of the ciphertext:\")\n",
    "print()\n",
    "print(observed_frequency)\n",
    "print()\n",
    "print(\"Total Letters Observed in ciphertext:\")\n",
    "print()\n",
    "print(total_observed)"
   ]
  },
  {
   "cell_type": "code",
   "execution_count": 34,
   "id": "d9b54525",
   "metadata": {},
   "outputs": [
    {
     "name": "stdout",
     "output_type": "stream",
     "text": [
      "Observed Frequencies of the plaintext:\n",
      "\n",
      "{'D': 3.97456279809221, 'E': 9.697933227344992, 'A': 9.252782193958664, 'R': 5.627980922098569, 'H': 3.5930047694753573, 'I': 9.634340222575517, 'N': 7.599364069952305, 'G': 2.670906200317965, 'M': 3.2114467408585057, 'X': 0.3815580286168521, 'C': 3.783783783783784, 'T': 9.98410174880763, 'O': 6.200317965023848, 'S': 6.613672496025437, 'U': 2.7027027027027026, 'B': 1.3036565977742447, 'Y': 2.1939586645469, 'P': 2.6073131955484894, 'L': 4.324324324324325, 'F': 0.985691573926868, 'W': 0.985691573926868, 'K': 0.7949125596184419, 'Q': 0.2861685214626391, 'V': 1.3036565977742447, 'J': 0.19077901430842606, 'Z': 0.09538950715421303}\n",
      "Total Letters Observed in plaintext:\n",
      "\n",
      "3145\n"
     ]
    }
   ],
   "source": [
    "text\n",
    "observed_frequency_plaintext, total_observed_p = frequency_analysis(text)\n",
    "print(\"Observed Frequencies of the plaintext:\")\n",
    "print()\n",
    "print(observed_frequency_plaintext)\n",
    "print(\"Total Letters Observed in plaintext:\")\n",
    "print()\n",
    "print(total_observed_p)"
   ]
  },
  {
   "cell_type": "code",
   "execution_count": 35,
   "id": "2c41a735",
   "metadata": {
    "scrolled": true
   },
   "outputs": [
    {
     "data": {
      "image/png": "[encoded data removed]",
      "text/plain": [
       "<Figure size 1400x700 with 2 Axes>"
      ]
     },
     "metadata": {},
     "output_type": "display_data"
    }
   ],
   "source": [
    "def plot_frequencies(plaintext_freq, ciphertext_freq):\n",
    "    plt.figure(figsize=(14, 7))\n",
    "    \n",
    "    # Plot of plaintext frequencies\n",
    "    plt.subplot(1, 2, 1)\n",
    "    plt.bar(plaintext_freq.keys(), plaintext_freq.values(), color='blue')\n",
    "    plt.title('Plaintext Frequency Distribution')\n",
    "    plt.xlabel('Letters')\n",
    "    plt.ylabel('Frequency (%)')\n",
    "\n",
    "    # Plot of ciphertext frequencies\n",
    "    plt.subplot(1, 2, 2)\n",
    "    plt.bar(ciphertext_freq.keys(), ciphertext_freq.values(), color='red')\n",
    "    plt.title('Ciphertext Frequency Distribution')\n",
    "    plt.xlabel('Letters')\n",
    "    plt.ylabel('Frequency (%)')\n",
    "\n",
    "    plt.tight_layout()\n",
    "    plt.show()\n",
    "\n",
    "# Plot the frequency distributions\n",
    "plot_frequencies(observed_frequency_plaintext, observed_frequency)"
   ]
  },
  {
   "cell_type": "code",
   "execution_count": 36,
   "id": "f47036cb",
   "metadata": {},
   "outputs": [
    {
     "name": "stdout",
     "output_type": "stream",
     "text": [
      "Expected Frequencies:\n",
      "\n",
      "{'A': 311.277, 'B': 56.769, 'C': 105.91799999999999, 'D': 161.925, 'E': 483.87, 'F': 84.96300000000001, 'G': 76.962, 'H': 232.029, 'I': 265.557, 'J': 5.715, 'K': 29.337, 'L': 153.543, 'M': 91.821, 'N': 257.175, 'O': 286.13100000000003, 'P': 73.53299999999999, 'Q': 3.81, 'R': 228.219, 'S': 241.17299999999997, 'T': 345.186, 'U': 105.15599999999999, 'V': 37.338, 'W': 89.916, 'X': 5.715, 'Y': 75.057, 'Z': 2.6670000000000003}\n"
     ]
    }
   ],
   "source": [
    "def calculate_expected_frequencies(total_observed, expected_percentage):\n",
    "    # Calculate expected frequencies based on the observed total\n",
    "    expected_freq = {char: total_observed * (freq / 100) for char, freq in expected_percentage.items()}\n",
    "    return expected_freq\n",
    "\n",
    "# Expected frequencies for English letters (percentage)\n",
    "expected_freq_english = {\n",
    "    'A': 8.17, 'B': 1.49, 'C': 2.78, 'D': 4.25, 'E': 12.70, 'F': 2.23, 'G': 2.02, \n",
    "    'H': 6.09, 'I': 6.97, 'J': 0.15, 'K': 0.77, 'L': 4.03, 'M': 2.41, 'N': 6.75, \n",
    "    'O': 7.51, 'P': 1.93, 'Q': 0.10, 'R': 5.99, 'S': 6.33, 'T': 9.06, 'U': 2.76, \n",
    "    'V': 0.98, 'W': 2.36, 'X': 0.15, 'Y': 1.97, 'Z': 0.07\n",
    "}\n",
    "\n",
    "# Calculate expected frequencies based on the observed total in the ciphertext\n",
    "expected_frequency = calculate_expected_frequencies(total_observed, expected_freq_english)\n",
    "print(\"Expected Frequencies:\")\n",
    "print()\n",
    "print(expected_frequency)"
   ]
  },
  {
   "cell_type": "code",
   "execution_count": 37,
   "id": "800a3bb5",
   "metadata": {},
   "outputs": [
    {
     "name": "stdout",
     "output_type": "stream",
     "text": [
      "Chi-Square: 1203.933791780449, p-value: 2.5487242933163227e-238\n",
      "Critical Value (95% confidence): 37.65248413348277\n",
      "The difference between the observed and expected frequencies is statistically significant.\n"
     ]
    }
   ],
   "source": [
    "def chi_square_test(observed_freq, expected_freq):\n",
    "    # Extract values from the dictionaries\n",
    "    observed_values = [observed_freq.get(char, 0) for char in expected_freq]\n",
    "    expected_values = [expected_freq[char] for char in expected_freq]\n",
    "    \n",
    "    # Adjusting observed values to match the total of expected values\n",
    "    observed_total = sum(observed_values)\n",
    "    expected_total = sum(expected_values)\n",
    "    scaling_factor = observed_total / expected_total\n",
    "    adjusted_expected_values = [value * scaling_factor for value in expected_values]\n",
    "    \n",
    "    # Perform chi-square test\n",
    "    chi_square, p_value = stats.chisquare(observed_values, adjusted_expected_values)\n",
    "    return chi_square, p_value\n",
    "\n",
    "# Perform chi-square test\n",
    "chi_square, p_value = chi_square_test(observed_frequency, expected_frequency)\n",
    "print(f\"Chi-Square: {chi_square}, p-value: {p_value}\")\n",
    "\n",
    "# Interpretation of results\n",
    "degrees_of_freedom = len(expected_freq_english) - 1\n",
    "critical_value = stats.chi2.ppf(0.95, degrees_of_freedom)\n",
    "print(f\"Critical Value (95% confidence): {critical_value}\")\n",
    "\n",
    "if chi_square > critical_value:\n",
    "    print(\"The difference between the observed and expected frequencies is statistically significant.\")\n",
    "else:\n",
    "    print(\"The difference between the observed and expected frequencies is not statistically significant.\")\n"
   ]
  },
  {
   "cell_type": "code",
   "execution_count": 38,
   "id": "10da15d4",
   "metadata": {},
   "outputs": [
    {
     "data": {
      "text/plain": [
       "100.0"
      ]
     },
     "execution_count": 38,
     "metadata": {},
     "output_type": "execute_result"
    }
   ],
   "source": [
    "sum(observed_frequency.values())"
   ]
  },
  {
   "cell_type": "code",
   "execution_count": 39,
   "id": "e211d075",
   "metadata": {},
   "outputs": [
    {
     "data": {
      "text/plain": [
       "3810.7619999999997"
      ]
     },
     "execution_count": 39,
     "metadata": {},
     "output_type": "execute_result"
    }
   ],
   "source": [
    "sum(expected_frequency.values())"
   ]
  },
  {
   "cell_type": "markdown",
   "id": "b3badb40",
   "metadata": {},
   "source": [
    "### Entropy Calculation"
   ]
  },
  {
   "cell_type": "code",
   "execution_count": 40,
   "id": "a7b6296e",
   "metadata": {},
   "outputs": [],
   "source": [
    "def calculate_entropy(frequency):\n",
    "    total = sum(frequency.values())\n",
    "    entropy = -sum((count / total) * math.log2(count / total) for count in frequency.values() if count > 0)\n",
    "    return entropy"
   ]
  },
  {
   "cell_type": "code",
   "execution_count": 41,
   "id": "59fc891a",
   "metadata": {},
   "outputs": [
    {
     "name": "stdout",
     "output_type": "stream",
     "text": [
      "Plaintext Entropy: 4.186901809852984\n",
      "\n",
      "Ciphertext Entropy: 4.5196768235974165\n"
     ]
    }
   ],
   "source": [
    "# Calculate entropy\n",
    "plaintext_entropy = calculate_entropy(observed_frequency_plaintext)\n",
    "ciphertext_entropy = calculate_entropy(observed_frequency)\n",
    "\n",
    "print(f\"Plaintext Entropy: {plaintext_entropy}\")\n",
    "print()\n",
    "print(f\"Ciphertext Entropy: {ciphertext_entropy}\")"
   ]
  },
  {
   "cell_type": "code",
   "execution_count": 42,
   "id": "af13a934",
   "metadata": {},
   "outputs": [
    {
     "data": {
      "image/png": "[encoded data removed]",
      "text/plain": [
       "<Figure size 800x600 with 1 Axes>"
      ]
     },
     "metadata": {},
     "output_type": "display_data"
    }
   ],
   "source": [
    "# My entropy values \n",
    "plaintext_entropy = 4.186901809852984\n",
    "ciphertext_entropy = 4.5196768235974165\n",
    "\n",
    "# Labels for the bars\n",
    "labels = ['Plaintext Entropy', 'Ciphertext Entropy']\n",
    "\n",
    "# Entropy values\n",
    "entropy_values = [plaintext_entropy, ciphertext_entropy]\n",
    "\n",
    "# Create the bar chart\n",
    "plt.figure(figsize=(8, 6))\n",
    "plt.bar(labels, entropy_values, color=['#1f77b4', '#ff7f0e'])\n",
    "\n",
    "# Add title and labels\n",
    "plt.title('Entropy Comparison: Plaintext vs Ciphertext')\n",
    "plt.ylabel('Entropy')\n",
    "plt.xlabel('Text Type')\n",
    "\n",
    "# Annotate the bars with the entropy values\n",
    "for i, v in enumerate(entropy_values):\n",
    "    plt.text(i, v + 0.01, f\"{v:.4f}\", ha='center', fontweight='bold')"
   ]
  },
  {
   "cell_type": "code",
   "execution_count": 43,
   "id": "4c8ba00a",
   "metadata": {},
   "outputs": [
    {
     "name": "stdout",
     "output_type": "stream",
     "text": [
      "Index of Coincidence for Plaintext: 0.05536462386738267\n",
      "\n",
      "Index of Coincidence for Ciphertext: 0.03799828250610486\n"
     ]
    }
   ],
   "source": [
    "def index_of_coincidence(text):\n",
    "    frequencies = Counter(text)\n",
    "    N = sum(frequencies.values())\n",
    "    ic = sum(n * (n - 1) for n in frequencies.values()) / (N * (N - 1))\n",
    "    return ic\n",
    "\n",
    "ic_plaintext_value = index_of_coincidence(observed_frequency_plaintext)\n",
    "ic_ciphertext_value = index_of_coincidence(observed_frequency)\n",
    "\n",
    "\n",
    "print(f\"Index of Coincidence for Plaintext: {ic_plaintext_value}\")\n",
    "print()\n",
    "print(f\"Index of Coincidence for Ciphertext: {ic_ciphertext_value}\")\n"
   ]
  },
  {
   "cell_type": "code",
   "execution_count": 44,
   "id": "cbab571e",
   "metadata": {},
   "outputs": [
    {
     "name": "stdout",
     "output_type": "stream",
     "text": [
      "          Text Type  Index of Coincidence (IC)\n",
      "0         Plaintext                   0.055365\n",
      "1        Ciphertext                   0.037998\n",
      "2  Standard English                   0.068000\n"
     ]
    }
   ],
   "source": [
    "# IC values and typical IC value for standard English text\n",
    "ic_plaintext = 0.05536462386738267\n",
    "ic_ciphertext = 0.03799828250610486\n",
    "ic_standard_english = 0.068  \n",
    "\n",
    "# Create a dictionary with the IC values\n",
    "data = {\n",
    "    \"Text Type\": [\"Plaintext\", \"Ciphertext\", \"Standard English\"],\n",
    "    \"Index of Coincidence (IC)\": [ic_plaintext, ic_ciphertext, ic_standard_english]\n",
    "}\n",
    "\n",
    "# Creating a DataFrame\n",
    "df = pd.DataFrame(data)\n",
    "\n",
    "# Display the table\n",
    "print(df)"
   ]
  }
 ],
 "metadata": {
  "kernelspec": {
   "display_name": "Python 3 (ipykernel)",
   "language": "python",
   "name": "python3"
  },
  "language_info": {
   "codemirror_mode": {
    "name": "ipython",
    "version": 3
   },
   "file_extension": ".py",
   "mimetype": "text/x-python",
   "name": "python",
   "nbconvert_exporter": "python",
   "pygments_lexer": "ipython3",
   "version": "3.11.5"
  }
 },
 "nbformat": 4,
 "nbformat_minor": 5
}
